{
 "cells": [
  {
   "cell_type": "markdown",
   "id": "c3387ecf",
   "metadata": {},
   "source": [
    "# Berkeley 311 calls"
   ]
  },
  {
   "cell_type": "code",
   "execution_count": null,
   "id": "89f06b53",
   "metadata": {},
   "outputs": [],
   "source": [
    "import pandas as pd\n",
    "import requests"
   ]
  },
  {
   "cell_type": "markdown",
   "id": "c0328865",
   "metadata": {},
   "source": [
    "## Download data\n",
    "\n",
    "Download [311 call data](https://data.cityofberkeley.info/311/311-Cases-COB/bscu-qpbu) from the City of Berkeley's Open Data Portal. "
   ]
  },
  {
   "cell_type": "code",
   "execution_count": null,
   "id": "77423e30",
   "metadata": {},
   "outputs": [],
   "source": [
    "url = 'https://data.cityofberkeley.info/api/views/bscu-qpbu/rows.csv?accessType=DOWNLOAD'\n",
    "r = requests.get(url, allow_redirects=False)\n",
    "\n",
    "# write the content of the request into a file called `berkeley_311.csv`\n",
    "open('berkeley_311.csv', 'wb').write(r.content)"
   ]
  }
 ],
 "metadata": {
  "kernelspec": {
   "display_name": "Python 3 (ipykernel)",
   "language": "python",
   "name": "python3"
  },
  "language_info": {
   "codemirror_mode": {
    "name": "ipython",
    "version": 3
   },
   "file_extension": ".py",
   "mimetype": "text/x-python",
   "name": "python",
   "nbconvert_exporter": "python",
   "pygments_lexer": "ipython3",
   "version": "3.8.5"
  }
 },
 "nbformat": 4,
 "nbformat_minor": 5
}
