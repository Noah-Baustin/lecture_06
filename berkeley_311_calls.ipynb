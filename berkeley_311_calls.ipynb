{
 "cells": [
  {
   "cell_type": "markdown",
   "id": "c3387ecf",
   "metadata": {},
   "source": [
    "# Berkeley 311 calls"
   ]
  },
  {
   "cell_type": "code",
   "execution_count": null,
   "id": "89f06b53",
   "metadata": {},
   "outputs": [],
   "source": [
    "import pandas as pd\n",
    "import requests\n",
    "from datetime import datetime"
   ]
  },
  {
   "cell_type": "markdown",
   "id": "c0328865",
   "metadata": {},
   "source": [
    "## Download data\n",
    "\n",
    "Download [311 call data](https://data.cityofberkeley.info/311/311-Cases-COB/bscu-qpbu) from the City of Berkeley's Open Data Portal. "
   ]
  },
  {
   "cell_type": "code",
   "execution_count": null,
   "id": "49f12b3a",
   "metadata": {},
   "outputs": [],
   "source": [
    "# get today's date and format it to YYYYMMDD\n",
    "todays_date = datetime.now().strftime('%Y%m%d')\n",
    "todays_date"
   ]
  },
  {
   "cell_type": "code",
   "execution_count": null,
   "id": "40c15069",
   "metadata": {},
   "outputs": [],
   "source": [
    "# what we're going to call the file we download\n",
    "download_file_name = f'berkeley_311_{ todays_date }.csv'\n",
    "download_file_name"
   ]
  },
  {
   "cell_type": "code",
   "execution_count": null,
   "id": "77423e30",
   "metadata": {},
   "outputs": [],
   "source": [
    "# download the file\n",
    "url = 'https://data.cityofberkeley.info/api/views/bscu-qpbu/rows.csv?accessType=DOWNLOAD'\n",
    "r = requests.get(url, allow_redirects=False)\n",
    "open(download_file_name, 'wb').write(r.content)"
   ]
  }
 ],
 "metadata": {
  "kernelspec": {
   "display_name": "Python 3 (ipykernel)",
   "language": "python",
   "name": "python3"
  },
  "language_info": {
   "codemirror_mode": {
    "name": "ipython",
    "version": 3
   },
   "file_extension": ".py",
   "mimetype": "text/x-python",
   "name": "python",
   "nbconvert_exporter": "python",
   "pygments_lexer": "ipython3",
   "version": "3.8.5"
  }
 },
 "nbformat": 4,
 "nbformat_minor": 5
}
