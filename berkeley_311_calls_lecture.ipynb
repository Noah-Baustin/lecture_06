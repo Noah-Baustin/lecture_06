{
 "cells": [
  {
   "cell_type": "markdown",
   "id": "c3387ecf",
   "metadata": {},
   "source": [
    "# Berkeley 311 calls - Lecture notes"
   ]
  },
  {
   "cell_type": "markdown",
   "id": "f8676f04-1ddc-4b0d-b1f4-429109ac4d89",
   "metadata": {},
   "source": [
    "## Modules\n",
    "\n",
    "A **module** is a way for Python to store functions and variables so they can be reused. You `import` modules to use those functions and variables. Typically, all the `import` statements are the top of a file or notebook."
   ]
  },
  {
   "cell_type": "code",
   "execution_count": 1,
   "id": "89f06b53",
   "metadata": {},
   "outputs": [],
   "source": [
    "import pandas as pd\n",
    "import altair as alt\n",
    "import requests"
   ]
  },
  {
   "cell_type": "markdown",
   "id": "943d9a96-1efa-4444-9819-6dc89763a950",
   "metadata": {},
   "source": [
    "The `requests` module is already built into Python. We installed the pandas and altair modules when we installed `requirements-3.8.5.txt` earlier.\n",
    "\n",
    "A **package** is a kind of module that uses \"dotted module names.\" That just means you can use methods with the name of the package followed by a period and the method, e.g. `requests.get()`.\n",
    "\n",
    "When you `import` a module, you can give it an alias using `as`. Above, we gave the pandas module the alias of `pd`. That means we can call the library’s methods using `pd.read_csv()` instead of `pandas.read_csv()`. We always `import pandas as pd` because that's what the pandas-using community has decided as a convention; likewise, we always `import altair as alt`. \n",
    "\n",
    "Sometimes we call modules like pandas and altair \"libraries.\" That's a general software term; there's no special Python thing called \"library.\""
   ]
  },
  {
   "cell_type": "markdown",
   "id": "0fecc729-2ce5-48a9-8ef5-8db2b5dca0a9",
   "metadata": {},
   "source": [
    "## What is pandas?\n",
    "\n",
    "It's a Python Data Analysis library.\n",
    "\n",
    "[Pandas](https://pandas.pydata.org/) is a library that allows you to view table data and perform lots of different kinds of operations on that table. In pandas, a table is called a **dataframe**. If you’ve used Excel or Google Sheets, a dataframe should look familiar to you. There are rows and columns. You have column headers. You have discrete rows.\n",
    "\n",
    "## What is Altair?\n",
    "\n",
    "[Altair](https://altair-viz.github.io/) is a data visualization library for Python. `matplotlib` is usually the first data viz module Python programmers learn, but Altair is easier to use."
   ]
  },
  {
   "cell_type": "markdown",
   "id": "c0328865",
   "metadata": {},
   "source": [
    "## Download data\n",
    "\n",
    "We're going to download [311 call data](https://data.cityofberkeley.info/311/311-Cases-COB/bscu-qpbu) from the City of Berkeley's Open Data Portal. You can run the cell below. It will download the data into a file called `berkeley_311.csv`.\n",
    "\n",
    "If you want to download something straight from the Internet again, you can copy this code but swap out the url and the file name. (But don't forget to `import requests` at the top of your notebook.)"
   ]
  },
  {
   "cell_type": "code",
   "execution_count": 2,
   "id": "77423e30",
   "metadata": {},
   "outputs": [
    {
     "data": {
      "text/plain": [
       "129037547"
      ]
     },
     "execution_count": 2,
     "metadata": {},
     "output_type": "execute_result"
    }
   ],
   "source": [
    "url = 'https://data.cityofberkeley.info/api/views/bscu-qpbu/rows.csv?accessType=DOWNLOAD'\n",
    "r = requests.get(url, allow_redirects=False)\n",
    "\n",
    "# write the content of the request into a file called `berkeley_311.csv`\n",
    "open('berkeley_311.csv', 'wb').write(r.content)"
   ]
  },
  {
   "cell_type": "markdown",
   "id": "51f48d33-eb92-4280-be50-ef8084e8751b",
   "metadata": {},
   "source": [
    "## Import the csv into a `pandas` dataframe\n",
    "\n",
    "We use a method called `pd.read_csv()` to import a csv file into a dataframe.\n",
    "\n",
    "Make sure you assign the dataframe into a variable. Below, we're calling the dataframe `berkeley_311`."
   ]
  },
  {
   "cell_type": "code",
   "execution_count": 3,
   "id": "3ca59c07-4625-4c02-85b9-a7924333a2b7",
   "metadata": {},
   "outputs": [],
   "source": [
    "berkeley_311_original = pd.read_csv('berkeley_311.csv')"
   ]
  },
  {
   "cell_type": "markdown",
   "id": "b8ddd67e-8db0-4544-9bc0-22b5074f7dde",
   "metadata": {},
   "source": [
    "In these notes, I'm going to use the term `df` to stand for 'dataframe' — you will see `df` when you're searching the Internet for answers. In your actual work, you'll replace `df` with whatever you called your dataframe; in this case, that's `berkeley_311`."
   ]
  },
  {
   "cell_type": "markdown",
   "id": "d4f36ecf-33dd-451c-962f-f2f4f41e11d9",
   "metadata": {},
   "source": [
    "## View data\n",
    "\n",
    "### `df.head()` and `df.tail()`\n",
    "\n",
    "Use `df.head()` to view the first 5 rows and the last 5 rows of the dataframe. "
   ]
  },
  {
   "cell_type": "code",
   "execution_count": 4,
   "id": "0508f418-b53e-4c0c-b6ec-1592de5955b8",
   "metadata": {},
   "outputs": [
    {
     "data": {
      "text/html": [
       "<div>\n",
       "<style scoped>\n",
       "    .dataframe tbody tr th:only-of-type {\n",
       "        vertical-align: middle;\n",
       "    }\n",
       "\n",
       "    .dataframe tbody tr th {\n",
       "        vertical-align: top;\n",
       "    }\n",
       "\n",
       "    .dataframe thead th {\n",
       "        text-align: right;\n",
       "    }\n",
       "</style>\n",
       "<table border=\"1\" class=\"dataframe\">\n",
       "  <thead>\n",
       "    <tr style=\"text-align: right;\">\n",
       "      <th></th>\n",
       "      <th>Case_ID</th>\n",
       "      <th>Date_Opened</th>\n",
       "      <th>Case_Status</th>\n",
       "      <th>Date_Closed</th>\n",
       "      <th>Request_Category</th>\n",
       "      <th>Request_SubCategory</th>\n",
       "      <th>Request_Detail</th>\n",
       "      <th>Object_Type</th>\n",
       "      <th>APN</th>\n",
       "      <th>Street_Address</th>\n",
       "      <th>City</th>\n",
       "      <th>State</th>\n",
       "      <th>Neighborhood</th>\n",
       "      <th>Latitude</th>\n",
       "      <th>Longitude</th>\n",
       "      <th>Location</th>\n",
       "    </tr>\n",
       "  </thead>\n",
       "  <tbody>\n",
       "    <tr>\n",
       "      <th>0</th>\n",
       "      <td>121000809740</td>\n",
       "      <td>11/06/2020 04:51:00 PM</td>\n",
       "      <td>Closed</td>\n",
       "      <td>11/09/2020 01:52:57 AM</td>\n",
       "      <td>General Questions/information</td>\n",
       "      <td>Miscellaneous</td>\n",
       "      <td>Miscellaneous Service Request</td>\n",
       "      <td>Individual</td>\n",
       "      <td>NaN</td>\n",
       "      <td>NaN</td>\n",
       "      <td>Berkeley</td>\n",
       "      <td>CA</td>\n",
       "      <td>Berkeley</td>\n",
       "      <td>NaN</td>\n",
       "      <td>NaN</td>\n",
       "      <td>NaN</td>\n",
       "    </tr>\n",
       "    <tr>\n",
       "      <th>1</th>\n",
       "      <td>121000809739</td>\n",
       "      <td>11/06/2020 04:38:00 PM</td>\n",
       "      <td>Closed</td>\n",
       "      <td>11/09/2020 01:41:12 AM</td>\n",
       "      <td>General Questions/information</td>\n",
       "      <td>Miscellaneous</td>\n",
       "      <td>Miscellaneous Service Request</td>\n",
       "      <td>Property</td>\n",
       "      <td>060 249305600</td>\n",
       "      <td>1411 GRIZZLY PEAK BLVD</td>\n",
       "      <td>Berkeley</td>\n",
       "      <td>CA</td>\n",
       "      <td>Berkeley</td>\n",
       "      <td>37.884799</td>\n",
       "      <td>-122.247874</td>\n",
       "      <td>(37.88479918, -122.24787412)</td>\n",
       "    </tr>\n",
       "    <tr>\n",
       "      <th>2</th>\n",
       "      <td>121000793663</td>\n",
       "      <td>09/01/2020 11:32:00 AM</td>\n",
       "      <td>Closed</td>\n",
       "      <td>09/01/2020 11:36:00 AM</td>\n",
       "      <td>Other Account Services and Billing</td>\n",
       "      <td>Marina</td>\n",
       "      <td>Payment Collection - Marina</td>\n",
       "      <td>Individual</td>\n",
       "      <td>NaN</td>\n",
       "      <td>NaN</td>\n",
       "      <td>Berkeley</td>\n",
       "      <td>CA</td>\n",
       "      <td>Berkeley</td>\n",
       "      <td>NaN</td>\n",
       "      <td>NaN</td>\n",
       "      <td>NaN</td>\n",
       "    </tr>\n",
       "    <tr>\n",
       "      <th>3</th>\n",
       "      <td>121000797043</td>\n",
       "      <td>09/15/2020 01:07:00 PM</td>\n",
       "      <td>Closed</td>\n",
       "      <td>11/09/2020 12:15:48 PM</td>\n",
       "      <td>General Questions/information</td>\n",
       "      <td>Miscellaneous</td>\n",
       "      <td>Miscellaneous Internet Request</td>\n",
       "      <td>Individual</td>\n",
       "      <td>NaN</td>\n",
       "      <td>NaN</td>\n",
       "      <td>Berkeley</td>\n",
       "      <td>CA</td>\n",
       "      <td>Berkeley</td>\n",
       "      <td>NaN</td>\n",
       "      <td>NaN</td>\n",
       "      <td>NaN</td>\n",
       "    </tr>\n",
       "    <tr>\n",
       "      <th>4</th>\n",
       "      <td>121000750353</td>\n",
       "      <td>02/11/2020 11:40:00 AM</td>\n",
       "      <td>Closed</td>\n",
       "      <td>02/21/2020 01:17:00 PM</td>\n",
       "      <td>Public Records Act</td>\n",
       "      <td>Request</td>\n",
       "      <td>zMulti-Department</td>\n",
       "      <td>Organisation</td>\n",
       "      <td>NaN</td>\n",
       "      <td>NaN</td>\n",
       "      <td>Berkeley</td>\n",
       "      <td>CA</td>\n",
       "      <td>Berkeley</td>\n",
       "      <td>NaN</td>\n",
       "      <td>NaN</td>\n",
       "      <td>NaN</td>\n",
       "    </tr>\n",
       "  </tbody>\n",
       "</table>\n",
       "</div>"
      ],
      "text/plain": [
       "        Case_ID             Date_Opened Case_Status             Date_Closed  \\\n",
       "0  121000809740  11/06/2020 04:51:00 PM      Closed  11/09/2020 01:52:57 AM   \n",
       "1  121000809739  11/06/2020 04:38:00 PM      Closed  11/09/2020 01:41:12 AM   \n",
       "2  121000793663  09/01/2020 11:32:00 AM      Closed  09/01/2020 11:36:00 AM   \n",
       "3  121000797043  09/15/2020 01:07:00 PM      Closed  11/09/2020 12:15:48 PM   \n",
       "4  121000750353  02/11/2020 11:40:00 AM      Closed  02/21/2020 01:17:00 PM   \n",
       "\n",
       "                     Request_Category Request_SubCategory  \\\n",
       "0       General Questions/information       Miscellaneous   \n",
       "1       General Questions/information       Miscellaneous   \n",
       "2  Other Account Services and Billing              Marina   \n",
       "3       General Questions/information       Miscellaneous   \n",
       "4                  Public Records Act             Request   \n",
       "\n",
       "                   Request_Detail   Object_Type            APN  \\\n",
       "0   Miscellaneous Service Request    Individual            NaN   \n",
       "1   Miscellaneous Service Request      Property  060 249305600   \n",
       "2     Payment Collection - Marina    Individual            NaN   \n",
       "3  Miscellaneous Internet Request    Individual            NaN   \n",
       "4               zMulti-Department  Organisation            NaN   \n",
       "\n",
       "           Street_Address      City State Neighborhood   Latitude   Longitude  \\\n",
       "0                     NaN  Berkeley    CA     Berkeley        NaN         NaN   \n",
       "1  1411 GRIZZLY PEAK BLVD  Berkeley    CA     Berkeley  37.884799 -122.247874   \n",
       "2                     NaN  Berkeley    CA     Berkeley        NaN         NaN   \n",
       "3                     NaN  Berkeley    CA     Berkeley        NaN         NaN   \n",
       "4                     NaN  Berkeley    CA     Berkeley        NaN         NaN   \n",
       "\n",
       "                       Location  \n",
       "0                           NaN  \n",
       "1  (37.88479918, -122.24787412)  \n",
       "2                           NaN  \n",
       "3                           NaN  \n",
       "4                           NaN  "
      ]
     },
     "execution_count": 4,
     "metadata": {},
     "output_type": "execute_result"
    }
   ],
   "source": [
    "berkeley_311_original.head()"
   ]
  },
  {
   "cell_type": "markdown",
   "id": "6f3588ea-e6b2-4d69-9929-6ac49b7fb341",
   "metadata": {},
   "source": [
    "You'll notice that there are numbers `0`, `1`, `2`, `3`, and `4` added to the dataframe to the left. That's called the **index** of the dataframe. An index is basically a row id.\n",
    "\n",
    "You can also use `df.head(20)` to view the first 20 rows. "
   ]
  },
  {
   "cell_type": "markdown",
   "id": "49699c79-7c73-42ec-9942-71c0e4c36e92",
   "metadata": {},
   "source": [
    "How would you view the last 5 rows?\n",
    "\n",
    "Use `df.tail()`. This might look similar to the command-line lecture we had a few weeks ago."
   ]
  },
  {
   "cell_type": "code",
   "execution_count": 5,
   "id": "4139b7c0-e6f4-4ea7-99c4-681da55243b1",
   "metadata": {},
   "outputs": [
    {
     "data": {
      "text/html": [
       "<div>\n",
       "<style scoped>\n",
       "    .dataframe tbody tr th:only-of-type {\n",
       "        vertical-align: middle;\n",
       "    }\n",
       "\n",
       "    .dataframe tbody tr th {\n",
       "        vertical-align: top;\n",
       "    }\n",
       "\n",
       "    .dataframe thead th {\n",
       "        text-align: right;\n",
       "    }\n",
       "</style>\n",
       "<table border=\"1\" class=\"dataframe\">\n",
       "  <thead>\n",
       "    <tr style=\"text-align: right;\">\n",
       "      <th></th>\n",
       "      <th>Case_ID</th>\n",
       "      <th>Date_Opened</th>\n",
       "      <th>Case_Status</th>\n",
       "      <th>Date_Closed</th>\n",
       "      <th>Request_Category</th>\n",
       "      <th>Request_SubCategory</th>\n",
       "      <th>Request_Detail</th>\n",
       "      <th>Object_Type</th>\n",
       "      <th>APN</th>\n",
       "      <th>Street_Address</th>\n",
       "      <th>City</th>\n",
       "      <th>State</th>\n",
       "      <th>Neighborhood</th>\n",
       "      <th>Latitude</th>\n",
       "      <th>Longitude</th>\n",
       "      <th>Location</th>\n",
       "    </tr>\n",
       "  </thead>\n",
       "  <tbody>\n",
       "    <tr>\n",
       "      <th>588079</th>\n",
       "      <td>121000870206</td>\n",
       "      <td>08/16/2021 06:43:00 PM</td>\n",
       "      <td>Closed</td>\n",
       "      <td>08/24/2021 08:54:17 AM</td>\n",
       "      <td>Refuse and Recycling</td>\n",
       "      <td>Commercial</td>\n",
       "      <td>Commercial Customer Complaint</td>\n",
       "      <td>Property</td>\n",
       "      <td>NaN</td>\n",
       "      <td>Intersection of Shattuck and Cedar, BERKELEY, CA</td>\n",
       "      <td>Berkeley</td>\n",
       "      <td>CA</td>\n",
       "      <td>Berkeley</td>\n",
       "      <td>NaN</td>\n",
       "      <td>NaN</td>\n",
       "      <td>NaN</td>\n",
       "    </tr>\n",
       "    <tr>\n",
       "      <th>588080</th>\n",
       "      <td>121000871866</td>\n",
       "      <td>08/24/2021 08:33:00 AM</td>\n",
       "      <td>Open</td>\n",
       "      <td>NaN</td>\n",
       "      <td>Refuse and Recycling</td>\n",
       "      <td>Residential</td>\n",
       "      <td>Residential Missed Pickup</td>\n",
       "      <td>Property</td>\n",
       "      <td>063 295600301</td>\n",
       "      <td>30 ACACIA AVE</td>\n",
       "      <td>Berkeley</td>\n",
       "      <td>CA</td>\n",
       "      <td>Berkeley</td>\n",
       "      <td>37.900258</td>\n",
       "      <td>-122.268583</td>\n",
       "      <td>(37.90025808, -122.26858321)</td>\n",
       "    </tr>\n",
       "    <tr>\n",
       "      <th>588081</th>\n",
       "      <td>121000871870</td>\n",
       "      <td>08/24/2021 08:38:11 AM</td>\n",
       "      <td>Closed</td>\n",
       "      <td>08/24/2021 04:36:08 PM</td>\n",
       "      <td>Refuse and Recycling</td>\n",
       "      <td>Account Services and Billing</td>\n",
       "      <td>Payment Collection - Refuse and Recycling</td>\n",
       "      <td>Individual</td>\n",
       "      <td>NaN</td>\n",
       "      <td>NaN</td>\n",
       "      <td>Berkeley</td>\n",
       "      <td>CA</td>\n",
       "      <td>Berkeley</td>\n",
       "      <td>NaN</td>\n",
       "      <td>NaN</td>\n",
       "      <td>NaN</td>\n",
       "    </tr>\n",
       "    <tr>\n",
       "      <th>588082</th>\n",
       "      <td>121000872015</td>\n",
       "      <td>08/24/2021 12:12:38 PM</td>\n",
       "      <td>Closed</td>\n",
       "      <td>08/24/2021 04:36:30 PM</td>\n",
       "      <td>Refuse and Recycling</td>\n",
       "      <td>Account Services and Billing</td>\n",
       "      <td>Payment Collection - Refuse and Recycling</td>\n",
       "      <td>Individual</td>\n",
       "      <td>NaN</td>\n",
       "      <td>NaN</td>\n",
       "      <td>Berkeley</td>\n",
       "      <td>CA</td>\n",
       "      <td>Berkeley</td>\n",
       "      <td>NaN</td>\n",
       "      <td>NaN</td>\n",
       "      <td>NaN</td>\n",
       "    </tr>\n",
       "    <tr>\n",
       "      <th>588083</th>\n",
       "      <td>121000871566</td>\n",
       "      <td>08/23/2021 10:05:00 AM</td>\n",
       "      <td>Closed</td>\n",
       "      <td>08/24/2021 02:58:00 PM</td>\n",
       "      <td>Streets, Utilities, and Transportation</td>\n",
       "      <td>Clean City Program</td>\n",
       "      <td>Illegal Dumping - City Property</td>\n",
       "      <td>Property</td>\n",
       "      <td>NaN</td>\n",
       "      <td>Intersection of Euclid and Virginia, BERKELEY, CA</td>\n",
       "      <td>Berkeley</td>\n",
       "      <td>CA</td>\n",
       "      <td>Berkeley</td>\n",
       "      <td>NaN</td>\n",
       "      <td>NaN</td>\n",
       "      <td>NaN</td>\n",
       "    </tr>\n",
       "  </tbody>\n",
       "</table>\n",
       "</div>"
      ],
      "text/plain": [
       "             Case_ID             Date_Opened Case_Status  \\\n",
       "588079  121000870206  08/16/2021 06:43:00 PM      Closed   \n",
       "588080  121000871866  08/24/2021 08:33:00 AM        Open   \n",
       "588081  121000871870  08/24/2021 08:38:11 AM      Closed   \n",
       "588082  121000872015  08/24/2021 12:12:38 PM      Closed   \n",
       "588083  121000871566  08/23/2021 10:05:00 AM      Closed   \n",
       "\n",
       "                   Date_Closed                        Request_Category  \\\n",
       "588079  08/24/2021 08:54:17 AM                    Refuse and Recycling   \n",
       "588080                     NaN                    Refuse and Recycling   \n",
       "588081  08/24/2021 04:36:08 PM                    Refuse and Recycling   \n",
       "588082  08/24/2021 04:36:30 PM                    Refuse and Recycling   \n",
       "588083  08/24/2021 02:58:00 PM  Streets, Utilities, and Transportation   \n",
       "\n",
       "                 Request_SubCategory  \\\n",
       "588079                    Commercial   \n",
       "588080                   Residential   \n",
       "588081  Account Services and Billing   \n",
       "588082  Account Services and Billing   \n",
       "588083            Clean City Program   \n",
       "\n",
       "                                   Request_Detail Object_Type            APN  \\\n",
       "588079              Commercial Customer Complaint    Property            NaN   \n",
       "588080                  Residential Missed Pickup    Property  063 295600301   \n",
       "588081  Payment Collection - Refuse and Recycling  Individual            NaN   \n",
       "588082  Payment Collection - Refuse and Recycling  Individual            NaN   \n",
       "588083            Illegal Dumping - City Property    Property            NaN   \n",
       "\n",
       "                                           Street_Address      City State  \\\n",
       "588079   Intersection of Shattuck and Cedar, BERKELEY, CA  Berkeley    CA   \n",
       "588080                                      30 ACACIA AVE  Berkeley    CA   \n",
       "588081                                                NaN  Berkeley    CA   \n",
       "588082                                                NaN  Berkeley    CA   \n",
       "588083  Intersection of Euclid and Virginia, BERKELEY, CA  Berkeley    CA   \n",
       "\n",
       "       Neighborhood   Latitude   Longitude                      Location  \n",
       "588079     Berkeley        NaN         NaN                           NaN  \n",
       "588080     Berkeley  37.900258 -122.268583  (37.90025808, -122.26858321)  \n",
       "588081     Berkeley        NaN         NaN                           NaN  \n",
       "588082     Berkeley        NaN         NaN                           NaN  \n",
       "588083     Berkeley        NaN         NaN                           NaN  "
      ]
     },
     "execution_count": 5,
     "metadata": {},
     "output_type": "execute_result"
    }
   ],
   "source": [
    "berkeley_311_original.tail()"
   ]
  },
  {
   "cell_type": "markdown",
   "id": "4e1b568a-6e24-4df5-8ec0-69b636820059",
   "metadata": {},
   "source": [
    "If you call the dataframe on its own, you'll get both the first 5 rows and the last 5 rows."
   ]
  },
  {
   "cell_type": "code",
   "execution_count": 6,
   "id": "5f597d1e-10df-4484-b004-6247acedb80e",
   "metadata": {},
   "outputs": [
    {
     "data": {
      "text/html": [
       "<div>\n",
       "<style scoped>\n",
       "    .dataframe tbody tr th:only-of-type {\n",
       "        vertical-align: middle;\n",
       "    }\n",
       "\n",
       "    .dataframe tbody tr th {\n",
       "        vertical-align: top;\n",
       "    }\n",
       "\n",
       "    .dataframe thead th {\n",
       "        text-align: right;\n",
       "    }\n",
       "</style>\n",
       "<table border=\"1\" class=\"dataframe\">\n",
       "  <thead>\n",
       "    <tr style=\"text-align: right;\">\n",
       "      <th></th>\n",
       "      <th>Case_ID</th>\n",
       "      <th>Date_Opened</th>\n",
       "      <th>Case_Status</th>\n",
       "      <th>Date_Closed</th>\n",
       "      <th>Request_Category</th>\n",
       "      <th>Request_SubCategory</th>\n",
       "      <th>Request_Detail</th>\n",
       "      <th>Object_Type</th>\n",
       "      <th>APN</th>\n",
       "      <th>Street_Address</th>\n",
       "      <th>City</th>\n",
       "      <th>State</th>\n",
       "      <th>Neighborhood</th>\n",
       "      <th>Latitude</th>\n",
       "      <th>Longitude</th>\n",
       "      <th>Location</th>\n",
       "    </tr>\n",
       "  </thead>\n",
       "  <tbody>\n",
       "    <tr>\n",
       "      <th>0</th>\n",
       "      <td>121000809740</td>\n",
       "      <td>11/06/2020 04:51:00 PM</td>\n",
       "      <td>Closed</td>\n",
       "      <td>11/09/2020 01:52:57 AM</td>\n",
       "      <td>General Questions/information</td>\n",
       "      <td>Miscellaneous</td>\n",
       "      <td>Miscellaneous Service Request</td>\n",
       "      <td>Individual</td>\n",
       "      <td>NaN</td>\n",
       "      <td>NaN</td>\n",
       "      <td>Berkeley</td>\n",
       "      <td>CA</td>\n",
       "      <td>Berkeley</td>\n",
       "      <td>NaN</td>\n",
       "      <td>NaN</td>\n",
       "      <td>NaN</td>\n",
       "    </tr>\n",
       "    <tr>\n",
       "      <th>1</th>\n",
       "      <td>121000809739</td>\n",
       "      <td>11/06/2020 04:38:00 PM</td>\n",
       "      <td>Closed</td>\n",
       "      <td>11/09/2020 01:41:12 AM</td>\n",
       "      <td>General Questions/information</td>\n",
       "      <td>Miscellaneous</td>\n",
       "      <td>Miscellaneous Service Request</td>\n",
       "      <td>Property</td>\n",
       "      <td>060 249305600</td>\n",
       "      <td>1411 GRIZZLY PEAK BLVD</td>\n",
       "      <td>Berkeley</td>\n",
       "      <td>CA</td>\n",
       "      <td>Berkeley</td>\n",
       "      <td>37.884799</td>\n",
       "      <td>-122.247874</td>\n",
       "      <td>(37.88479918, -122.24787412)</td>\n",
       "    </tr>\n",
       "    <tr>\n",
       "      <th>2</th>\n",
       "      <td>121000793663</td>\n",
       "      <td>09/01/2020 11:32:00 AM</td>\n",
       "      <td>Closed</td>\n",
       "      <td>09/01/2020 11:36:00 AM</td>\n",
       "      <td>Other Account Services and Billing</td>\n",
       "      <td>Marina</td>\n",
       "      <td>Payment Collection - Marina</td>\n",
       "      <td>Individual</td>\n",
       "      <td>NaN</td>\n",
       "      <td>NaN</td>\n",
       "      <td>Berkeley</td>\n",
       "      <td>CA</td>\n",
       "      <td>Berkeley</td>\n",
       "      <td>NaN</td>\n",
       "      <td>NaN</td>\n",
       "      <td>NaN</td>\n",
       "    </tr>\n",
       "    <tr>\n",
       "      <th>3</th>\n",
       "      <td>121000797043</td>\n",
       "      <td>09/15/2020 01:07:00 PM</td>\n",
       "      <td>Closed</td>\n",
       "      <td>11/09/2020 12:15:48 PM</td>\n",
       "      <td>General Questions/information</td>\n",
       "      <td>Miscellaneous</td>\n",
       "      <td>Miscellaneous Internet Request</td>\n",
       "      <td>Individual</td>\n",
       "      <td>NaN</td>\n",
       "      <td>NaN</td>\n",
       "      <td>Berkeley</td>\n",
       "      <td>CA</td>\n",
       "      <td>Berkeley</td>\n",
       "      <td>NaN</td>\n",
       "      <td>NaN</td>\n",
       "      <td>NaN</td>\n",
       "    </tr>\n",
       "    <tr>\n",
       "      <th>4</th>\n",
       "      <td>121000750353</td>\n",
       "      <td>02/11/2020 11:40:00 AM</td>\n",
       "      <td>Closed</td>\n",
       "      <td>02/21/2020 01:17:00 PM</td>\n",
       "      <td>Public Records Act</td>\n",
       "      <td>Request</td>\n",
       "      <td>zMulti-Department</td>\n",
       "      <td>Organisation</td>\n",
       "      <td>NaN</td>\n",
       "      <td>NaN</td>\n",
       "      <td>Berkeley</td>\n",
       "      <td>CA</td>\n",
       "      <td>Berkeley</td>\n",
       "      <td>NaN</td>\n",
       "      <td>NaN</td>\n",
       "      <td>NaN</td>\n",
       "    </tr>\n",
       "    <tr>\n",
       "      <th>...</th>\n",
       "      <td>...</td>\n",
       "      <td>...</td>\n",
       "      <td>...</td>\n",
       "      <td>...</td>\n",
       "      <td>...</td>\n",
       "      <td>...</td>\n",
       "      <td>...</td>\n",
       "      <td>...</td>\n",
       "      <td>...</td>\n",
       "      <td>...</td>\n",
       "      <td>...</td>\n",
       "      <td>...</td>\n",
       "      <td>...</td>\n",
       "      <td>...</td>\n",
       "      <td>...</td>\n",
       "      <td>...</td>\n",
       "    </tr>\n",
       "    <tr>\n",
       "      <th>588079</th>\n",
       "      <td>121000870206</td>\n",
       "      <td>08/16/2021 06:43:00 PM</td>\n",
       "      <td>Closed</td>\n",
       "      <td>08/24/2021 08:54:17 AM</td>\n",
       "      <td>Refuse and Recycling</td>\n",
       "      <td>Commercial</td>\n",
       "      <td>Commercial Customer Complaint</td>\n",
       "      <td>Property</td>\n",
       "      <td>NaN</td>\n",
       "      <td>Intersection of Shattuck and Cedar, BERKELEY, CA</td>\n",
       "      <td>Berkeley</td>\n",
       "      <td>CA</td>\n",
       "      <td>Berkeley</td>\n",
       "      <td>NaN</td>\n",
       "      <td>NaN</td>\n",
       "      <td>NaN</td>\n",
       "    </tr>\n",
       "    <tr>\n",
       "      <th>588080</th>\n",
       "      <td>121000871866</td>\n",
       "      <td>08/24/2021 08:33:00 AM</td>\n",
       "      <td>Open</td>\n",
       "      <td>NaN</td>\n",
       "      <td>Refuse and Recycling</td>\n",
       "      <td>Residential</td>\n",
       "      <td>Residential Missed Pickup</td>\n",
       "      <td>Property</td>\n",
       "      <td>063 295600301</td>\n",
       "      <td>30 ACACIA AVE</td>\n",
       "      <td>Berkeley</td>\n",
       "      <td>CA</td>\n",
       "      <td>Berkeley</td>\n",
       "      <td>37.900258</td>\n",
       "      <td>-122.268583</td>\n",
       "      <td>(37.90025808, -122.26858321)</td>\n",
       "    </tr>\n",
       "    <tr>\n",
       "      <th>588081</th>\n",
       "      <td>121000871870</td>\n",
       "      <td>08/24/2021 08:38:11 AM</td>\n",
       "      <td>Closed</td>\n",
       "      <td>08/24/2021 04:36:08 PM</td>\n",
       "      <td>Refuse and Recycling</td>\n",
       "      <td>Account Services and Billing</td>\n",
       "      <td>Payment Collection - Refuse and Recycling</td>\n",
       "      <td>Individual</td>\n",
       "      <td>NaN</td>\n",
       "      <td>NaN</td>\n",
       "      <td>Berkeley</td>\n",
       "      <td>CA</td>\n",
       "      <td>Berkeley</td>\n",
       "      <td>NaN</td>\n",
       "      <td>NaN</td>\n",
       "      <td>NaN</td>\n",
       "    </tr>\n",
       "    <tr>\n",
       "      <th>588082</th>\n",
       "      <td>121000872015</td>\n",
       "      <td>08/24/2021 12:12:38 PM</td>\n",
       "      <td>Closed</td>\n",
       "      <td>08/24/2021 04:36:30 PM</td>\n",
       "      <td>Refuse and Recycling</td>\n",
       "      <td>Account Services and Billing</td>\n",
       "      <td>Payment Collection - Refuse and Recycling</td>\n",
       "      <td>Individual</td>\n",
       "      <td>NaN</td>\n",
       "      <td>NaN</td>\n",
       "      <td>Berkeley</td>\n",
       "      <td>CA</td>\n",
       "      <td>Berkeley</td>\n",
       "      <td>NaN</td>\n",
       "      <td>NaN</td>\n",
       "      <td>NaN</td>\n",
       "    </tr>\n",
       "    <tr>\n",
       "      <th>588083</th>\n",
       "      <td>121000871566</td>\n",
       "      <td>08/23/2021 10:05:00 AM</td>\n",
       "      <td>Closed</td>\n",
       "      <td>08/24/2021 02:58:00 PM</td>\n",
       "      <td>Streets, Utilities, and Transportation</td>\n",
       "      <td>Clean City Program</td>\n",
       "      <td>Illegal Dumping - City Property</td>\n",
       "      <td>Property</td>\n",
       "      <td>NaN</td>\n",
       "      <td>Intersection of Euclid and Virginia, BERKELEY, CA</td>\n",
       "      <td>Berkeley</td>\n",
       "      <td>CA</td>\n",
       "      <td>Berkeley</td>\n",
       "      <td>NaN</td>\n",
       "      <td>NaN</td>\n",
       "      <td>NaN</td>\n",
       "    </tr>\n",
       "  </tbody>\n",
       "</table>\n",
       "<p>588084 rows × 16 columns</p>\n",
       "</div>"
      ],
      "text/plain": [
       "             Case_ID             Date_Opened Case_Status  \\\n",
       "0       121000809740  11/06/2020 04:51:00 PM      Closed   \n",
       "1       121000809739  11/06/2020 04:38:00 PM      Closed   \n",
       "2       121000793663  09/01/2020 11:32:00 AM      Closed   \n",
       "3       121000797043  09/15/2020 01:07:00 PM      Closed   \n",
       "4       121000750353  02/11/2020 11:40:00 AM      Closed   \n",
       "...              ...                     ...         ...   \n",
       "588079  121000870206  08/16/2021 06:43:00 PM      Closed   \n",
       "588080  121000871866  08/24/2021 08:33:00 AM        Open   \n",
       "588081  121000871870  08/24/2021 08:38:11 AM      Closed   \n",
       "588082  121000872015  08/24/2021 12:12:38 PM      Closed   \n",
       "588083  121000871566  08/23/2021 10:05:00 AM      Closed   \n",
       "\n",
       "                   Date_Closed                        Request_Category  \\\n",
       "0       11/09/2020 01:52:57 AM           General Questions/information   \n",
       "1       11/09/2020 01:41:12 AM           General Questions/information   \n",
       "2       09/01/2020 11:36:00 AM      Other Account Services and Billing   \n",
       "3       11/09/2020 12:15:48 PM           General Questions/information   \n",
       "4       02/21/2020 01:17:00 PM                      Public Records Act   \n",
       "...                        ...                                     ...   \n",
       "588079  08/24/2021 08:54:17 AM                    Refuse and Recycling   \n",
       "588080                     NaN                    Refuse and Recycling   \n",
       "588081  08/24/2021 04:36:08 PM                    Refuse and Recycling   \n",
       "588082  08/24/2021 04:36:30 PM                    Refuse and Recycling   \n",
       "588083  08/24/2021 02:58:00 PM  Streets, Utilities, and Transportation   \n",
       "\n",
       "                 Request_SubCategory  \\\n",
       "0                      Miscellaneous   \n",
       "1                      Miscellaneous   \n",
       "2                             Marina   \n",
       "3                      Miscellaneous   \n",
       "4                            Request   \n",
       "...                              ...   \n",
       "588079                    Commercial   \n",
       "588080                   Residential   \n",
       "588081  Account Services and Billing   \n",
       "588082  Account Services and Billing   \n",
       "588083            Clean City Program   \n",
       "\n",
       "                                   Request_Detail   Object_Type  \\\n",
       "0                   Miscellaneous Service Request    Individual   \n",
       "1                   Miscellaneous Service Request      Property   \n",
       "2                     Payment Collection - Marina    Individual   \n",
       "3                  Miscellaneous Internet Request    Individual   \n",
       "4                               zMulti-Department  Organisation   \n",
       "...                                           ...           ...   \n",
       "588079              Commercial Customer Complaint      Property   \n",
       "588080                  Residential Missed Pickup      Property   \n",
       "588081  Payment Collection - Refuse and Recycling    Individual   \n",
       "588082  Payment Collection - Refuse and Recycling    Individual   \n",
       "588083            Illegal Dumping - City Property      Property   \n",
       "\n",
       "                  APN                                     Street_Address  \\\n",
       "0                 NaN                                                NaN   \n",
       "1       060 249305600                             1411 GRIZZLY PEAK BLVD   \n",
       "2                 NaN                                                NaN   \n",
       "3                 NaN                                                NaN   \n",
       "4                 NaN                                                NaN   \n",
       "...               ...                                                ...   \n",
       "588079            NaN   Intersection of Shattuck and Cedar, BERKELEY, CA   \n",
       "588080  063 295600301                                      30 ACACIA AVE   \n",
       "588081            NaN                                                NaN   \n",
       "588082            NaN                                                NaN   \n",
       "588083            NaN  Intersection of Euclid and Virginia, BERKELEY, CA   \n",
       "\n",
       "            City State Neighborhood   Latitude   Longitude  \\\n",
       "0       Berkeley    CA     Berkeley        NaN         NaN   \n",
       "1       Berkeley    CA     Berkeley  37.884799 -122.247874   \n",
       "2       Berkeley    CA     Berkeley        NaN         NaN   \n",
       "3       Berkeley    CA     Berkeley        NaN         NaN   \n",
       "4       Berkeley    CA     Berkeley        NaN         NaN   \n",
       "...          ...   ...          ...        ...         ...   \n",
       "588079  Berkeley    CA     Berkeley        NaN         NaN   \n",
       "588080  Berkeley    CA     Berkeley  37.900258 -122.268583   \n",
       "588081  Berkeley    CA     Berkeley        NaN         NaN   \n",
       "588082  Berkeley    CA     Berkeley        NaN         NaN   \n",
       "588083  Berkeley    CA     Berkeley        NaN         NaN   \n",
       "\n",
       "                            Location  \n",
       "0                                NaN  \n",
       "1       (37.88479918, -122.24787412)  \n",
       "2                                NaN  \n",
       "3                                NaN  \n",
       "4                                NaN  \n",
       "...                              ...  \n",
       "588079                           NaN  \n",
       "588080  (37.90025808, -122.26858321)  \n",
       "588081                           NaN  \n",
       "588082                           NaN  \n",
       "588083                           NaN  \n",
       "\n",
       "[588084 rows x 16 columns]"
      ]
     },
     "execution_count": 6,
     "metadata": {},
     "output_type": "execute_result"
    }
   ],
   "source": [
    "berkeley_311_original"
   ]
  },
  {
   "cell_type": "markdown",
   "id": "3ec80ff8-aa6c-48c0-8edb-fbe581fa8b4a",
   "metadata": {},
   "source": [
    "### `df.info()`\n",
    "\n",
    "Use `df.info()` to get more information on the dataframe. In particular, this method is useful in that it shows us the column names and what `dtype` the column is. (I'll explain `dtype` below.)"
   ]
  },
  {
   "cell_type": "code",
   "execution_count": 7,
   "id": "d3088e4a-2245-4643-bbd4-856fc344d66a",
   "metadata": {},
   "outputs": [
    {
     "name": "stdout",
     "output_type": "stream",
     "text": [
      "<class 'pandas.core.frame.DataFrame'>\n",
      "RangeIndex: 588084 entries, 0 to 588083\n",
      "Data columns (total 16 columns):\n",
      " #   Column               Non-Null Count   Dtype  \n",
      "---  ------               --------------   -----  \n",
      " 0   Case_ID              588084 non-null  int64  \n",
      " 1   Date_Opened          588084 non-null  object \n",
      " 2   Case_Status          588084 non-null  object \n",
      " 3   Date_Closed          561754 non-null  object \n",
      " 4   Request_Category     588084 non-null  object \n",
      " 5   Request_SubCategory  588084 non-null  object \n",
      " 6   Request_Detail       588084 non-null  object \n",
      " 7   Object_Type          588084 non-null  object \n",
      " 8   APN                  331564 non-null  object \n",
      " 9   Street_Address       365475 non-null  object \n",
      " 10  City                 588084 non-null  object \n",
      " 11  State                588084 non-null  object \n",
      " 12  Neighborhood         588084 non-null  object \n",
      " 13  Latitude             327333 non-null  float64\n",
      " 14  Longitude            327333 non-null  float64\n",
      " 15  Location             327333 non-null  object \n",
      "dtypes: float64(2), int64(1), object(13)\n",
      "memory usage: 71.8+ MB\n"
     ]
    }
   ],
   "source": [
    "berkeley_311_original.info()"
   ]
  },
  {
   "cell_type": "markdown",
   "id": "ec522bda-094d-4741-a524-1a4e1aafb7b3",
   "metadata": {},
   "source": [
    "### What is dtype?\n",
    "\n",
    "You remember when we talked about Python **types**, like `int`, `float`, and `string`? Above, we have `int64` instead of `int`, and `float64` instead of `float`. (`object` is pretty close to `string`, but not exactly.)\n",
    "\n",
    "Here, **dtype** stands for **data type** and comes from a module called `numpy`. Even though we did not `import numpy`, the pandas module imported numpy within its own code.\n",
    "\n",
    "Side note on dtypes: Sometimes, data doesn't import correctly, and you have to `df.read_csv()` again while simultaneously specifying the dtype. We're not going to do that today because it looks like most of the data imported OK. But we will convert the dtype of two columns so we can perform certain calculations.\n",
    "\n",
    "Let's take a look at a bit of the dataframe again."
   ]
  },
  {
   "cell_type": "code",
   "execution_count": 8,
   "id": "eba02a08-0f35-414b-8431-10235c0478b0",
   "metadata": {},
   "outputs": [
    {
     "data": {
      "text/html": [
       "<div>\n",
       "<style scoped>\n",
       "    .dataframe tbody tr th:only-of-type {\n",
       "        vertical-align: middle;\n",
       "    }\n",
       "\n",
       "    .dataframe tbody tr th {\n",
       "        vertical-align: top;\n",
       "    }\n",
       "\n",
       "    .dataframe thead th {\n",
       "        text-align: right;\n",
       "    }\n",
       "</style>\n",
       "<table border=\"1\" class=\"dataframe\">\n",
       "  <thead>\n",
       "    <tr style=\"text-align: right;\">\n",
       "      <th></th>\n",
       "      <th>Case_ID</th>\n",
       "      <th>Date_Opened</th>\n",
       "      <th>Case_Status</th>\n",
       "      <th>Date_Closed</th>\n",
       "      <th>Request_Category</th>\n",
       "      <th>Request_SubCategory</th>\n",
       "      <th>Request_Detail</th>\n",
       "      <th>Object_Type</th>\n",
       "      <th>APN</th>\n",
       "      <th>Street_Address</th>\n",
       "      <th>City</th>\n",
       "      <th>State</th>\n",
       "      <th>Neighborhood</th>\n",
       "      <th>Latitude</th>\n",
       "      <th>Longitude</th>\n",
       "      <th>Location</th>\n",
       "    </tr>\n",
       "  </thead>\n",
       "  <tbody>\n",
       "    <tr>\n",
       "      <th>0</th>\n",
       "      <td>121000809740</td>\n",
       "      <td>11/06/2020 04:51:00 PM</td>\n",
       "      <td>Closed</td>\n",
       "      <td>11/09/2020 01:52:57 AM</td>\n",
       "      <td>General Questions/information</td>\n",
       "      <td>Miscellaneous</td>\n",
       "      <td>Miscellaneous Service Request</td>\n",
       "      <td>Individual</td>\n",
       "      <td>NaN</td>\n",
       "      <td>NaN</td>\n",
       "      <td>Berkeley</td>\n",
       "      <td>CA</td>\n",
       "      <td>Berkeley</td>\n",
       "      <td>NaN</td>\n",
       "      <td>NaN</td>\n",
       "      <td>NaN</td>\n",
       "    </tr>\n",
       "    <tr>\n",
       "      <th>1</th>\n",
       "      <td>121000809739</td>\n",
       "      <td>11/06/2020 04:38:00 PM</td>\n",
       "      <td>Closed</td>\n",
       "      <td>11/09/2020 01:41:12 AM</td>\n",
       "      <td>General Questions/information</td>\n",
       "      <td>Miscellaneous</td>\n",
       "      <td>Miscellaneous Service Request</td>\n",
       "      <td>Property</td>\n",
       "      <td>060 249305600</td>\n",
       "      <td>1411 GRIZZLY PEAK BLVD</td>\n",
       "      <td>Berkeley</td>\n",
       "      <td>CA</td>\n",
       "      <td>Berkeley</td>\n",
       "      <td>37.884799</td>\n",
       "      <td>-122.247874</td>\n",
       "      <td>(37.88479918, -122.24787412)</td>\n",
       "    </tr>\n",
       "    <tr>\n",
       "      <th>2</th>\n",
       "      <td>121000793663</td>\n",
       "      <td>09/01/2020 11:32:00 AM</td>\n",
       "      <td>Closed</td>\n",
       "      <td>09/01/2020 11:36:00 AM</td>\n",
       "      <td>Other Account Services and Billing</td>\n",
       "      <td>Marina</td>\n",
       "      <td>Payment Collection - Marina</td>\n",
       "      <td>Individual</td>\n",
       "      <td>NaN</td>\n",
       "      <td>NaN</td>\n",
       "      <td>Berkeley</td>\n",
       "      <td>CA</td>\n",
       "      <td>Berkeley</td>\n",
       "      <td>NaN</td>\n",
       "      <td>NaN</td>\n",
       "      <td>NaN</td>\n",
       "    </tr>\n",
       "    <tr>\n",
       "      <th>3</th>\n",
       "      <td>121000797043</td>\n",
       "      <td>09/15/2020 01:07:00 PM</td>\n",
       "      <td>Closed</td>\n",
       "      <td>11/09/2020 12:15:48 PM</td>\n",
       "      <td>General Questions/information</td>\n",
       "      <td>Miscellaneous</td>\n",
       "      <td>Miscellaneous Internet Request</td>\n",
       "      <td>Individual</td>\n",
       "      <td>NaN</td>\n",
       "      <td>NaN</td>\n",
       "      <td>Berkeley</td>\n",
       "      <td>CA</td>\n",
       "      <td>Berkeley</td>\n",
       "      <td>NaN</td>\n",
       "      <td>NaN</td>\n",
       "      <td>NaN</td>\n",
       "    </tr>\n",
       "    <tr>\n",
       "      <th>4</th>\n",
       "      <td>121000750353</td>\n",
       "      <td>02/11/2020 11:40:00 AM</td>\n",
       "      <td>Closed</td>\n",
       "      <td>02/21/2020 01:17:00 PM</td>\n",
       "      <td>Public Records Act</td>\n",
       "      <td>Request</td>\n",
       "      <td>zMulti-Department</td>\n",
       "      <td>Organisation</td>\n",
       "      <td>NaN</td>\n",
       "      <td>NaN</td>\n",
       "      <td>Berkeley</td>\n",
       "      <td>CA</td>\n",
       "      <td>Berkeley</td>\n",
       "      <td>NaN</td>\n",
       "      <td>NaN</td>\n",
       "      <td>NaN</td>\n",
       "    </tr>\n",
       "  </tbody>\n",
       "</table>\n",
       "</div>"
      ],
      "text/plain": [
       "        Case_ID             Date_Opened Case_Status             Date_Closed  \\\n",
       "0  121000809740  11/06/2020 04:51:00 PM      Closed  11/09/2020 01:52:57 AM   \n",
       "1  121000809739  11/06/2020 04:38:00 PM      Closed  11/09/2020 01:41:12 AM   \n",
       "2  121000793663  09/01/2020 11:32:00 AM      Closed  09/01/2020 11:36:00 AM   \n",
       "3  121000797043  09/15/2020 01:07:00 PM      Closed  11/09/2020 12:15:48 PM   \n",
       "4  121000750353  02/11/2020 11:40:00 AM      Closed  02/21/2020 01:17:00 PM   \n",
       "\n",
       "                     Request_Category Request_SubCategory  \\\n",
       "0       General Questions/information       Miscellaneous   \n",
       "1       General Questions/information       Miscellaneous   \n",
       "2  Other Account Services and Billing              Marina   \n",
       "3       General Questions/information       Miscellaneous   \n",
       "4                  Public Records Act             Request   \n",
       "\n",
       "                   Request_Detail   Object_Type            APN  \\\n",
       "0   Miscellaneous Service Request    Individual            NaN   \n",
       "1   Miscellaneous Service Request      Property  060 249305600   \n",
       "2     Payment Collection - Marina    Individual            NaN   \n",
       "3  Miscellaneous Internet Request    Individual            NaN   \n",
       "4               zMulti-Department  Organisation            NaN   \n",
       "\n",
       "           Street_Address      City State Neighborhood   Latitude   Longitude  \\\n",
       "0                     NaN  Berkeley    CA     Berkeley        NaN         NaN   \n",
       "1  1411 GRIZZLY PEAK BLVD  Berkeley    CA     Berkeley  37.884799 -122.247874   \n",
       "2                     NaN  Berkeley    CA     Berkeley        NaN         NaN   \n",
       "3                     NaN  Berkeley    CA     Berkeley        NaN         NaN   \n",
       "4                     NaN  Berkeley    CA     Berkeley        NaN         NaN   \n",
       "\n",
       "                       Location  \n",
       "0                           NaN  \n",
       "1  (37.88479918, -122.24787412)  \n",
       "2                           NaN  \n",
       "3                           NaN  \n",
       "4                           NaN  "
      ]
     },
     "execution_count": 8,
     "metadata": {},
     "output_type": "execute_result"
    }
   ],
   "source": [
    "berkeley_311_original.head()"
   ]
  },
  {
   "cell_type": "markdown",
   "id": "99bf7a92-c35b-4670-801f-768f406af000",
   "metadata": {},
   "source": [
    "There are 2 columns that we want to convert. **Date_Opened** and **Date_Closed** are both `object` dtype, but we want to change them to a `datetime64` dtype. That allows us to do some math operations, like sort by the earliest date in the dataframe."
   ]
  },
  {
   "cell_type": "code",
   "execution_count": 9,
   "id": "47efe2dd-0311-48fa-8cee-9f0261f9f7f5",
   "metadata": {},
   "outputs": [
    {
     "data": {
      "text/plain": [
       "'01/01/2014 02:44:55 PM'"
      ]
     },
     "execution_count": 9,
     "metadata": {},
     "output_type": "execute_result"
    }
   ],
   "source": [
    "berkeley_311_original['Date_Opened'].min()"
   ]
  },
  {
   "cell_type": "code",
   "execution_count": 10,
   "id": "bab0e018-0782-4169-9f95-7084f8486421",
   "metadata": {},
   "outputs": [
    {
     "data": {
      "text/plain": [
       "'12/31/2020 12:57:00 PM'"
      ]
     },
     "execution_count": 10,
     "metadata": {},
     "output_type": "execute_result"
    }
   ],
   "source": [
    "berkeley_311_original['Date_Opened'].max()"
   ]
  },
  {
   "cell_type": "markdown",
   "id": "02490ab6-f206-4cd7-8fb1-afeb95ddc5f1",
   "metadata": {},
   "source": [
    "The operations above are wrong — they are sorted by string, not by actual date! We saw 2021 data when we called the df.tail() method earlier."
   ]
  },
  {
   "cell_type": "markdown",
   "id": "99aa9d73-63b3-49fd-aa33-463082710f63",
   "metadata": {},
   "source": [
    "## Properly type the data\n",
    "\n",
    "### Copy the original dataframe\n",
    "\n",
    "Before we start convert the 2 columns, let's copy the original dataframe into a new dataframe. Below, I'm going to use `df.copy()` to create a copy of the original dataframe. We're not going to alter the original dataframe at all. That way, if we run into any problems later, we can compare our edited dataframe with the original dataframe."
   ]
  },
  {
   "cell_type": "code",
   "execution_count": 11,
   "id": "da2b754f",
   "metadata": {},
   "outputs": [],
   "source": [
    "berkeley_311 = berkeley_311_original.copy()"
   ]
  },
  {
   "cell_type": "markdown",
   "id": "e291eb49-66b0-4bf8-8a72-cbe593a8d24c",
   "metadata": {},
   "source": [
    "### Convert columns to `datetime`\n",
    "\n",
    "Let's convert **Date_Opened** first so we can contrast the two columns. The syntax for this conversion is:\n",
    "\n",
    "```python\n",
    "df['column_name'] = pd.to_datetime(df['column_name'])\n",
    "```"
   ]
  },
  {
   "cell_type": "code",
   "execution_count": null,
   "id": "d905c327-0a65-40fc-9e63-95f1bf893c33",
   "metadata": {},
   "outputs": [],
   "source": [
    "berkeley_311['Date_Opened'] = pd.to_datetime(berkeley_311['Date_Opened'])"
   ]
  },
  {
   "cell_type": "markdown",
   "id": "d0a21382-8aff-464f-8ea4-884568a3d7ce",
   "metadata": {},
   "source": [
    "By the way, `berkeley_311['Date_Opened']` is a pandas **series**. We don't have to worry too much about that right now, but I want you to have to the right terminology. We're converting a series to a version of itself that passed through the `pd.to_datetime()` method."
   ]
  },
  {
   "cell_type": "markdown",
   "id": "199f11e2-b23b-4002-97bd-1026387b1d13",
   "metadata": {},
   "source": [
    "Look at the dataframe now and compare **Date_Opened** and **Date_Closed**."
   ]
  },
  {
   "cell_type": "code",
   "execution_count": null,
   "id": "b316575d-3c77-49ed-86fc-cf0bc03f408d",
   "metadata": {},
   "outputs": [],
   "source": [
    "berkeley_311.head()"
   ]
  },
  {
   "cell_type": "markdown",
   "id": "6139d2ce-3be8-4683-8fe1-2c3364038d5a",
   "metadata": {},
   "source": [
    "See how they look different? You can also call `df.info()` again."
   ]
  },
  {
   "cell_type": "code",
   "execution_count": null,
   "id": "20896217-9234-4ef8-96c4-a5d56f00a47c",
   "metadata": {},
   "outputs": [],
   "source": [
    "berkeley_311.info()"
   ]
  },
  {
   "cell_type": "markdown",
   "id": "23527932-528e-43a8-81b7-2f7e0dd1b077",
   "metadata": {},
   "source": [
    "Let's now convert the 2nd column `Date_Closed`:"
   ]
  },
  {
   "cell_type": "code",
   "execution_count": null,
   "id": "d3c9d700-3bb5-42e9-99a8-057885af5840",
   "metadata": {},
   "outputs": [],
   "source": [
    "berkeley_311['Date_Closed'] = pd.to_datetime(berkeley_311['Date_Closed'])"
   ]
  },
  {
   "cell_type": "markdown",
   "id": "df06a31c-2a9b-4ad8-8a42-6b5904e90ccc",
   "metadata": {},
   "source": [
    "And let's take a peek at the change:"
   ]
  },
  {
   "cell_type": "code",
   "execution_count": null,
   "id": "79061c29-77a0-4bbc-bb6c-7d0bb7b08a8f",
   "metadata": {},
   "outputs": [],
   "source": [
    "berkeley_311.head()"
   ]
  },
  {
   "cell_type": "markdown",
   "id": "ccbe05df-e640-4a03-b5d5-c4d43a699105",
   "metadata": {},
   "source": [
    "By the way, you might notice that we call `df.head()` and `df.tail()` a lot to check our work. That's OK. Later on, you will be able to run more code at once before calling one of those methods, but for now, it's good to check your work often."
   ]
  },
  {
   "cell_type": "markdown",
   "id": "ce1adfaf-6094-44b9-8ab3-954ce794cc7b",
   "metadata": {},
   "source": [
    "### .min() and .max()\n",
    "\n",
    "Now we can find the earliest date and the latest date of both columns, by performing `series.min()` and `series.max()` on these series. (There's no equivalent of `df`/dataframe for **series**, unfortunately.)"
   ]
  },
  {
   "cell_type": "code",
   "execution_count": null,
   "id": "6dcec726-bbc9-420e-822e-f561469ad8ee",
   "metadata": {},
   "outputs": [],
   "source": [
    "berkeley_311['Date_Opened'].min()"
   ]
  },
  {
   "cell_type": "code",
   "execution_count": null,
   "id": "b0bb89b1-9902-42f7-aa42-0a0ffaf907c6",
   "metadata": {},
   "outputs": [],
   "source": [
    "berkeley_311['Date_Opened'].max()"
   ]
  },
  {
   "cell_type": "markdown",
   "id": "e9a6038b-7818-420d-9807-9891dd2eff26",
   "metadata": {},
   "source": [
    "The min and max tell us that the year 2010 is not complete (and for that matter, neither is the current year, although we wouldn't need pandas to tell us that). If we analyze the data by year later, we might want to exclude 2010 and 2021 data."
   ]
  },
  {
   "cell_type": "markdown",
   "id": "50526bbc",
   "metadata": {},
   "source": [
    "### Get the difference of the two date columns\n",
    "\n",
    "Pandas allows you to get the difference of two dates by literally subtracting one datetime column from another. We'll create a new column called **Close_Time** that shows us how long it took for a case to be closed."
   ]
  },
  {
   "cell_type": "code",
   "execution_count": null,
   "id": "af8975ed",
   "metadata": {},
   "outputs": [],
   "source": [
    "berkeley_311['Close_Time'] = berkeley_311['Date_Closed'] - berkeley_311['Date_Opened']"
   ]
  },
  {
   "cell_type": "markdown",
   "id": "21cc787c-9d0e-46b5-814e-2adbfa777518",
   "metadata": {},
   "source": [
    "The resulting column will not be a `datetime` dtype. It will be a `timedelta` dtype. The term \"delta\" is often used to mean \"change.\" Observe the last column:"
   ]
  },
  {
   "cell_type": "code",
   "execution_count": null,
   "id": "05bd0e89",
   "metadata": {},
   "outputs": [],
   "source": [
    "berkeley_311.head()"
   ]
  },
  {
   "cell_type": "markdown",
   "id": "db40b410-8f0d-40f8-b667-fa829b3ee906",
   "metadata": {},
   "source": [
    "## A brief detour into data analysis\n",
    "\n",
    "Now that we've converted the columns, we can do some interesting operations on them.\n",
    "\n",
    "### Mean\n",
    "\n",
    "Get the mean of a column by calling `series.mean()`."
   ]
  },
  {
   "cell_type": "code",
   "execution_count": null,
   "id": "01e1a821",
   "metadata": {},
   "outputs": [],
   "source": [
    "berkeley_311['Close_Time'].mean()"
   ]
  },
  {
   "cell_type": "markdown",
   "id": "340c8bf7-8c7b-4861-8a0e-f859400be6ba",
   "metadata": {},
   "source": [
    "The average time the city took to close a case was around 61 days. This is for the whole dataset, from early 2010 to now."
   ]
  },
  {
   "cell_type": "markdown",
   "id": "1216952d-7cf5-43e5-b60a-56dfd8b64afe",
   "metadata": {},
   "source": [
    "### Median"
   ]
  },
  {
   "cell_type": "code",
   "execution_count": null,
   "id": "e1216c97",
   "metadata": {},
   "outputs": [],
   "source": [
    "berkeley_311['Close_Time'].median()"
   ]
  },
  {
   "cell_type": "markdown",
   "id": "97f32c0d-5f66-428d-adf9-19e3c2942ab4",
   "metadata": {},
   "source": [
    "But the median time was around 5 days."
   ]
  },
  {
   "cell_type": "markdown",
   "id": "4cc34611-91ad-4fcb-b830-6aa11075a80c",
   "metadata": {
    "tags": []
   },
   "source": [
    "### Min"
   ]
  },
  {
   "cell_type": "code",
   "execution_count": null,
   "id": "cd136584",
   "metadata": {},
   "outputs": [],
   "source": [
    "berkeley_311['Close_Time'].min()"
   ]
  },
  {
   "cell_type": "markdown",
   "id": "14a2d90d-1374-4447-86b8-2f7e6bb43673",
   "metadata": {},
   "source": [
    "The shortest amount of time was 0 days and 0 seconds. That might be a public comment that didn't require follow-up. We can check on that later."
   ]
  },
  {
   "cell_type": "markdown",
   "id": "ca1ef41d-1efb-4a2b-892d-a87898c8ecff",
   "metadata": {},
   "source": [
    "### Max"
   ]
  },
  {
   "cell_type": "code",
   "execution_count": null,
   "id": "2ccc77d1",
   "metadata": {},
   "outputs": [],
   "source": [
    "berkeley_311['Close_Time'].max()"
   ]
  },
  {
   "cell_type": "markdown",
   "id": "96227c8f-49b2-4aba-bcf0-c93de60b7bd9",
   "metadata": {},
   "source": [
    "One case seems to have taken 3,373 days! That's almost 10 years. That seems like way too long. There might be an error here.\n",
    "\n",
    "Let's take a quick detour into _subsetting_ the data. That means to take a smaller set of the data based on some conditions. I'll explain how to subset more later, but for now, check out the following code:"
   ]
  },
  {
   "cell_type": "code",
   "execution_count": null,
   "id": "8687c129",
   "metadata": {},
   "outputs": [],
   "source": [
    "berkeley_311[berkeley_311['Close_Time'] >= '3373 days']"
   ]
  },
  {
   "cell_type": "markdown",
   "id": "aab18b9c-d2c1-4ea6-bb95-0062fe8faf6b",
   "metadata": {},
   "source": [
    "It's hard to know why it took so long to close this case without asking the city for more information."
   ]
  },
  {
   "cell_type": "markdown",
   "id": "24220a3c-eb5a-4fa8-b50c-ab0f3fc4fa38",
   "metadata": {},
   "source": [
    "### Sort data\n",
    "\n",
    "We can even look at the top 10 cases that took the longest time to resolve. You'll use the `df.sort_values()` method.\n",
    "\n",
    "Let's break down the below code before we run it. You can see there are 2 options within the parentheses for `.sort_values()`:\n",
    "```python\n",
    "by=['Close_Time'], ascending=False\n",
    "```\n",
    "\n",
    "The `by` argument tells us which column we will sort the dataframe by. You always need to include this argument. You can sort by multiple columns, too.\n",
    "\n",
    "The optional `ascending` argument tells us if we want the dataframe to sort from smallest to largest or earliest to latest. By default, `ascending` is set to `True`, so we're going to change it here so it's `False`.\n",
    "\n",
    "Next, I don't want to see the entire dataframe, just the first 10 rows. So I'm going to call `df.head(10)`."
   ]
  },
  {
   "cell_type": "code",
   "execution_count": null,
   "id": "f8488e7f",
   "metadata": {},
   "outputs": [],
   "source": [
    "berkeley_311.sort_values(by=['Close_Time'], ascending=False).head(10)"
   ]
  },
  {
   "cell_type": "markdown",
   "id": "470b9d73-d660-46d7-8585-67e5171859ad",
   "metadata": {},
   "source": [
    "So that's a preview of an interesting analysis we can do. I showed you one fun part before we moved onto the harder part, checking and vetting the data. Usually, we need to do that first. But we did convert the columns to datetime, which is part of making sure the data was valid."
   ]
  },
  {
   "cell_type": "markdown",
   "id": "961c0397-b9c5-4a23-b156-1f17cab82a84",
   "metadata": {},
   "source": [
    "## Clean data, part 2: Check and vet the data\n",
    "\n",
    "### Unique identifier for every row?\n",
    "\n",
    "First, I want to see if `Case_ID` has a unique ID for every row. Why? When you're doing a data analysis, every row should have its own unique ID. Hopefully, the agency that gave you the data has provided a unique ID. Sometimes, though, they don't. In those cases, you want to create a unique ID for every row.\n",
    "\n",
    "I get a count of unique values by calling `.nunique()` on a column."
   ]
  },
  {
   "cell_type": "code",
   "execution_count": null,
   "id": "94e3081e-1c29-485e-a6d4-e4222f430cf6",
   "metadata": {},
   "outputs": [],
   "source": [
    "berkeley_311['Case_ID'].nunique()"
   ]
  },
  {
   "cell_type": "markdown",
   "id": "18a29b2b-02dc-4041-aaf2-8a1679b5f9ee",
   "metadata": {},
   "source": [
    "How many rows do we have again? We can use `df.info()` to get the number of rows, or we can scroll up to see again. I'm feeling lazy, so let's just call `len(df)`. (Do you remember that we learned `len()` for both strings and data structures earlier?)"
   ]
  },
  {
   "cell_type": "code",
   "execution_count": null,
   "id": "33eeb54b-5f70-4064-999d-02e796705c72",
   "metadata": {},
   "outputs": [],
   "source": [
    "len(berkeley_311)"
   ]
  },
  {
   "cell_type": "markdown",
   "id": "c6a33d5f-4db0-4b52-8dc5-4d481be5e49a",
   "metadata": {},
   "source": [
    "So there are 588,022 unique case IDs, but 588,028 rows in this dataframe. There might be duplicates or there could be missing data. Let's check for both.\n",
    "\n",
    "We're going to check by **subsetting** the data."
   ]
  },
  {
   "cell_type": "markdown",
   "id": "4f490a7c-d85c-406f-9ad6-8cacdeb52d30",
   "metadata": {},
   "source": [
    "### Subsetting\n",
    "\n",
    "This is the general structure of how you subset data in pandas.\n",
    "\n",
    "```python\n",
    "df[ expression ]\n",
    "```\n",
    "\n",
    "That's not very descriptive. What's the _expression_? There are lots of different ways we write these expressions in pandas. I'm going to show you a handful of different kinds today, but know there are a bunch more!\n",
    "\n",
    "Ultimately, what I want is a list of the duplicate `Case_ID`s. I'll then subset the dataframe to show any row that has a Case_ID that is on that list.\n",
    "\n",
    "\n",
    "We'll first check to see which rows in `berkeley_311` are exact duplicates."
   ]
  },
  {
   "cell_type": "code",
   "execution_count": null,
   "id": "75882478-dfdf-41b6-96f7-ba5646bce3fc",
   "metadata": {},
   "outputs": [],
   "source": [
    "berkeley_311[berkeley_311.duplicated()]"
   ]
  },
  {
   "cell_type": "markdown",
   "id": "43821e83-e371-4e17-96e6-b7e54d60dc80",
   "metadata": {},
   "source": [
    "There are no exact duplicates. Now let's check specifically to see rows in which `Case_ID`s are duplicated. "
   ]
  },
  {
   "cell_type": "code",
   "execution_count": null,
   "id": "4142c1c6-a6d9-4b6f-b990-894dc51f9d52",
   "metadata": {},
   "outputs": [],
   "source": [
    "berkeley_311[berkeley_311['Case_ID'].duplicated()]"
   ]
  },
  {
   "cell_type": "markdown",
   "id": "175df443-7dd4-4938-97b8-6dd66df7188a",
   "metadata": {},
   "source": [
    "What's annoying about this is that it only shows ONE instance of the Case_ID. What I want is a list of those Case IDs. How do I make a list of the values in one column?\n",
    "\n",
    "First, I'm going to create a new dataframe that has the duplicated IDs. We're going to create a copy."
   ]
  },
  {
   "cell_type": "code",
   "execution_count": null,
   "id": "979a23e8-6b68-4cef-8ec6-1b0f1d886943",
   "metadata": {},
   "outputs": [],
   "source": [
    "dupe_cases = berkeley_311[berkeley_311['Case_ID'].duplicated()].copy()\n",
    "dupe_cases"
   ]
  },
  {
   "cell_type": "markdown",
   "id": "14450a4c-fab4-4bc8-a7da-d5aba8b37d9b",
   "metadata": {},
   "source": [
    "Now we create a `list` or `array` (the numpy version of a list) of those IDs:"
   ]
  },
  {
   "cell_type": "code",
   "execution_count": null,
   "id": "0d96f414-b5d0-4826-92f1-f8146b55106c",
   "metadata": {},
   "outputs": [],
   "source": [
    "dupe_case_ids = dupe_cases['Case_ID'].to_list()\n",
    "\n",
    "# to create an array, you can use this instead:\n",
    "# dupe_case_ids = dupe_cases['Case_ID'].unique()"
   ]
  },
  {
   "cell_type": "markdown",
   "id": "50ef5d17-0c5b-4583-ab8a-962089955519",
   "metadata": {},
   "source": [
    "Now we'll call `dupe_case_ids`, so we can see what's in it."
   ]
  },
  {
   "cell_type": "code",
   "execution_count": null,
   "id": "ecd73c22-486d-4306-ad36-821e22f94795",
   "metadata": {},
   "outputs": [],
   "source": [
    "dupe_case_ids"
   ]
  },
  {
   "cell_type": "markdown",
   "id": "9e628a86-11fd-4a72-aca5-c7478ab5fe0b",
   "metadata": {},
   "source": [
    "Now we'll subset the data by finding cases in our edited dataframe `berkeley_311`."
   ]
  },
  {
   "cell_type": "code",
   "execution_count": null,
   "id": "0c0516b0-14c7-47e2-be4d-636f5049477a",
   "metadata": {},
   "outputs": [],
   "source": [
    "berkeley_311[berkeley_311['Case_ID'].isin(dupe_case_ids)]"
   ]
  },
  {
   "cell_type": "markdown",
   "id": "dada6f53-945a-41bf-ba8d-20b52480adcb",
   "metadata": {},
   "source": [
    "OK, this is weird, it looks like all the cases are for the same address. Still, it's hard to tell what's going on, so I'm going to sort that dataframe by **Case_ID**."
   ]
  },
  {
   "cell_type": "code",
   "execution_count": null,
   "id": "257bafe5-0231-4faf-9a91-c95099fdafa2",
   "metadata": {},
   "outputs": [],
   "source": [
    "berkeley_311[berkeley_311['Case_ID'].isin(dupe_case_ids)].sort_values(by=['Case_ID'])"
   ]
  },
  {
   "cell_type": "markdown",
   "id": "1c6e3b2c-7feb-43a9-98f8-4fe02c572e79",
   "metadata": {},
   "source": [
    "The thing that looks different is the geocoding between those cases. \n",
    "\n",
    "FYI, all the code we used above didn't change the original dataframe. We were subsetting, but we did not subset with a new variable. \n",
    "\n",
    "Now, we're going to drop the duplicated cases, and reset the variable `berkeley_311`."
   ]
  },
  {
   "cell_type": "code",
   "execution_count": null,
   "id": "89c81158-3533-484f-a304-8f5ae19cc2e8",
   "metadata": {},
   "outputs": [],
   "source": [
    "berkeley_311 = berkeley_311.drop_duplicates(subset=['Case_ID'])"
   ]
  },
  {
   "cell_type": "code",
   "execution_count": null,
   "id": "a369dbd3-671a-4b7a-aa8b-d56a6fdb42da",
   "metadata": {},
   "outputs": [],
   "source": [
    "berkeley_311"
   ]
  },
  {
   "cell_type": "markdown",
   "id": "11496bf3-9bd4-4cef-9d7f-c95fd3991e80",
   "metadata": {},
   "source": [
    "By the way, you might have noticed there's something called `NaT` in one of the rows above. `NaT` stands for _not a time_ and is kind of like `None` or an empty cell in Google Sheets. For non-time related blank cells, you'll see `NaN` (not a number) instead of `NaT`.\n",
    "\n",
    "The difference between `None` and `NaN`/`NaT` is that the latter allows you to perform calcuations and skip any blank cells. That means, you probably need to check for how many `NaN`/`NaT` cells exist in your dataframe. If there are a lot of them, your analysis might not be valid. You can quickly check for that with the `df.info()` method we learned earlier. There's a column called `Non-Null Count`. "
   ]
  },
  {
   "cell_type": "code",
   "execution_count": null,
   "id": "f1229a69-48f8-4fd1-922c-76b75162ac34",
   "metadata": {},
   "outputs": [],
   "source": [
    "berkeley_311.info()"
   ]
  },
  {
   "cell_type": "markdown",
   "id": "800a0656-9845-48af-966a-5f5f1c3b7163",
   "metadata": {},
   "source": [
    "Which columns have a lot of null values?"
   ]
  },
  {
   "cell_type": "markdown",
   "id": "ebc5a99a-8fd9-4402-9b6d-aeb4795e1713",
   "metadata": {},
   "source": [
    "### Assert\n",
    "The keyword `assert` is a good way for us to check if the length of the dataframe now matches the number of unique IDs."
   ]
  },
  {
   "cell_type": "code",
   "execution_count": null,
   "id": "3b4f24ce-c740-44bb-b093-808ef366d48e",
   "metadata": {},
   "outputs": [],
   "source": [
    "assert len(berkeley_311) == berkeley_311['Case_ID'].nunique()"
   ]
  },
  {
   "cell_type": "markdown",
   "id": "162f29ba-061c-4a7d-8271-3db8bd099163",
   "metadata": {},
   "source": [
    "If the assertion is `True`, nothing happens. But if the assertion is `False`, you'll get an error. You might want to use these kinds of assertions when you have to re-run your notebooks or have to import updated datasets."
   ]
  },
  {
   "cell_type": "markdown",
   "id": "87523731",
   "metadata": {},
   "source": [
    "## Explore data\n",
    "\n",
    "What do I do if I don't have a question yet? I'm not really sure what to look into with this 311 data. So I'm going to explore it a little bit. I might do some analysis, I might not."
   ]
  },
  {
   "cell_type": "markdown",
   "id": "1d144a26-d9b7-470f-ab38-6be26f98e142",
   "metadata": {},
   "source": [
    "### Count how many incidents per year\n",
    "\n",
    "What I'd like to see first is a count of all the incidents by year. However, I know from earlier in this notebook that the data for 2010 and 2021 are not complete. So I need to subset.\n",
    "\n",
    "Below, I'm creating a new dataframe called `berkeley_311_complete` that limits the `berkeley_311` dataset to ones in which the **Date_Opened** value starts on or after January 1, 2011 and is before January 1, 2021. And we're not going to forget to use `df.copy()`."
   ]
  },
  {
   "cell_type": "code",
   "execution_count": null,
   "id": "35ccd29a-4046-46b6-a0e9-70a32b9d721d",
   "metadata": {},
   "outputs": [],
   "source": [
    "berkeley_311_complete = berkeley_311[\n",
    "    (berkeley_311['Date_Opened'] >= '2011-01-01') &\n",
    "    (berkeley_311['Date_Opened'] < '2021-01-01')\n",
    "].copy()"
   ]
  },
  {
   "cell_type": "markdown",
   "id": "da37de55-d4bc-4371-9570-161c10b6dc3d",
   "metadata": {},
   "source": [
    "### Aggregate with `df.groupby()`\n",
    "\n",
    "To aggregate the data, we're going to use a method called `df.groupby()`. Normally, when we group data, we'll group them by columns, like so:\n",
    "\n",
    "```python\n",
    "df.groupby(['Column 1', 'Column 2'])\n",
    "```\n",
    "\n",
    "But it's really tricky to group by datetimes. We're going to have to use a method called `pd.Grouper`. Before we run the code below, let's analyze the different arguments within the method:\n",
    "\n",
    "```python\n",
    "pd.Grouper(key='Date_Opened', axis=0, freq='A')\n",
    "```\n",
    "\n",
    "The `key` argument lists the column. The `axis` argument is `0`. In pandas, axis 0 is rows and axis 1 means columns. That means you can do column-wise calculations if your data is shaped differently. The `freq` argument is `A`, which stands for \"annual\" or year (`Y` also works, but isn't documented). You can see other [frequency arguments](https://pandas.pydata.org/pandas-docs/stable/user_guide/timeseries.html#offset-aliases) in the official pandas documentation."
   ]
  },
  {
   "cell_type": "code",
   "execution_count": null,
   "id": "61fbec2d-a5db-42a8-bd06-aeffd55cfbcf",
   "metadata": {},
   "outputs": [],
   "source": [
    "berkeley_311_complete.groupby([pd.Grouper(key='Date_Opened', axis=0, freq='A')])"
   ]
  },
  {
   "cell_type": "markdown",
   "id": "e6d6cbd2-03f6-42cb-98d1-7112967402f6",
   "metadata": {},
   "source": [
    "Running a `df.groupby()` doesn't do anything on its own, it just creates a pandas DataFrameGroupBy object. You have to follow it up with some kind of other method. Below, we're calling `df.count()` on the DataFrameGroupBy object."
   ]
  },
  {
   "cell_type": "code",
   "execution_count": null,
   "id": "8419a6ed-74c7-4844-8fd6-b41bc60bfc8c",
   "metadata": {},
   "outputs": [],
   "source": [
    "berkeley_311_complete.groupby([pd.Grouper(key='Date_Opened', axis=0, freq='A')]).count()"
   ]
  },
  {
   "cell_type": "markdown",
   "id": "85bd1ddf-160b-4287-a139-0574cb1ecc30",
   "metadata": {},
   "source": [
    "OK! So that's a new dataframe, with a little too much info. The \"counts\" are also different across columns. For \"count\" to make sense, you need to limit the dataframe to a column with zero blank cells. Since we know **Case_ID** has unique values, we just need that one. \n",
    "\n",
    "Before we subset the dataframe, let's give that dataframe a name, `annual_cases`. You won't need to use `df.copy()` on this because pandas created a new dataframe instance when you called `df.groupby().count()`."
   ]
  },
  {
   "cell_type": "code",
   "execution_count": null,
   "id": "dae1c60c-5cdb-41f2-a522-f135ba54cedb",
   "metadata": {},
   "outputs": [],
   "source": [
    "annual_cases = berkeley_311_complete.groupby([pd.Grouper(key='Date_Opened', axis=0, freq='A')]).count()"
   ]
  },
  {
   "cell_type": "markdown",
   "id": "9d99e10e-8812-4033-b6bc-ff0b6c4940b6",
   "metadata": {},
   "source": [
    "Now let's subset just the one column, **Case_ID**, from annual cases:"
   ]
  },
  {
   "cell_type": "code",
   "execution_count": null,
   "id": "bc70f91c-bffd-4a43-9f79-f9a735c692cc",
   "metadata": {},
   "outputs": [],
   "source": [
    "annual_cases[['Case_ID']]"
   ]
  },
  {
   "cell_type": "markdown",
   "id": "4062a9e4-1488-437b-a490-6932bab7152c",
   "metadata": {},
   "source": [
    "Let's look at that code one more time.\n",
    "```python\n",
    "annual_cases[['Case_ID']]\n",
    "```\n",
    "\n",
    "The outer set of brackets is used to select the data. Within the outer set of brackets is `['Case_ID']`. That is a list of the columns. If we wanted to select two columns, we might have written:\n",
    "\n",
    "```python\n",
    "annual_cases[['Case_ID', 'Case_Status']]\n",
    "```\n",
    "\n",
    "We don't need to keep the original `annual_cases` dataframe, so let's update the variable with the new subset:"
   ]
  },
  {
   "cell_type": "code",
   "execution_count": null,
   "id": "6ec639a7-8109-411d-b841-528db98e044b",
   "metadata": {},
   "outputs": [],
   "source": [
    "annual_cases = annual_cases[['Case_ID']].copy()"
   ]
  },
  {
   "cell_type": "code",
   "execution_count": null,
   "id": "ed001c0f-e471-4147-8e92-379333df5d9c",
   "metadata": {},
   "outputs": [],
   "source": [
    "annual_cases"
   ]
  },
  {
   "cell_type": "markdown",
   "id": "2c91b75c-8536-4188-9bb2-a84782c6ac9d",
   "metadata": {},
   "source": [
    "### Resetting the index\n",
    "\n",
    "In this dataframe, the index is no longer a series of integers like we've seen before. We want **Date_Opened** to be a columm, not an index, because that makes the dataframe easier to use.\n",
    "\n",
    "We're going to use `df.reset_index()`:"
   ]
  },
  {
   "cell_type": "code",
   "execution_count": null,
   "id": "e83d88e8-930f-4c92-b08f-d4e3cb86b933",
   "metadata": {},
   "outputs": [],
   "source": [
    "annual_cases = annual_cases.reset_index()"
   ]
  },
  {
   "cell_type": "code",
   "execution_count": null,
   "id": "ef9980d1-d39f-4797-85a5-4798b8bdec48",
   "metadata": {},
   "outputs": [],
   "source": [
    "annual_cases"
   ]
  },
  {
   "cell_type": "markdown",
   "id": "a6dffce8-f3c7-4f47-bae6-d2fb0c97f4eb",
   "metadata": {},
   "source": [
    "Now, **Date_Opened** is its own column instead of an index.\n",
    "\n",
    "Side note: You can use `df.reset_index(drop=True)` as an alternative to `df.copy(`) as long as you're OK with losing the original index numbers. The argument `drop=True` means that you want to renumber the index, not create a new column with index. See what happens if we don't add `drop=True` to the following code:"
   ]
  },
  {
   "cell_type": "code",
   "execution_count": null,
   "id": "7b562c1c-6dbe-4205-9015-040c50570d7e",
   "metadata": {},
   "outputs": [],
   "source": [
    "annual_cases.reset_index()"
   ]
  },
  {
   "cell_type": "markdown",
   "id": "01d7aab4-735f-495c-92ad-a3f3fc553959",
   "metadata": {},
   "source": [
    "Don't worry, we didn't permanently alter the `annual_cases` dataframe because we didn't redefine the variable!"
   ]
  },
  {
   "cell_type": "code",
   "execution_count": null,
   "id": "432af94f-ba2c-4ff9-8474-4aab7e871b3a",
   "metadata": {},
   "outputs": [],
   "source": [
    "annual_cases"
   ]
  },
  {
   "cell_type": "markdown",
   "id": "0ea1f442-c8d6-4fec-a25e-ce3c91afd2cf",
   "metadata": {},
   "source": [
    "### Rename columns\n",
    "\n",
    "Let's change the column names, while we're at it. \n",
    "I want to change the name of the **Case_ID** column to represent an actual count, like **Case_Count**.\n",
    "\n",
    "You can replace _all_ the columns in a dataframe with the following code:\n",
    "\n",
    "```python\n",
    "annual_cases.columns = ['Date_Opened', 'Count']\n",
    "```\n",
    "\n",
    "If you have a lot of columns, that's going to be a long list. But if you have a lot of columns to rename, the method above might be easier. If you have only one column to rename out of many columns, you'll want to use the following code:"
   ]
  },
  {
   "cell_type": "code",
   "execution_count": null,
   "id": "222d5f3f-262b-4dcb-9f11-7fca9aafcb1a",
   "metadata": {},
   "outputs": [],
   "source": [
    "annual_cases.rename(columns={'Case_ID': 'Case_Count'}, inplace=True)"
   ]
  },
  {
   "cell_type": "markdown",
   "id": "4cb9e893-409a-4250-a586-e8f3cf04601d",
   "metadata": {},
   "source": [
    "Let's look at that code again:\n",
    "\n",
    "\n",
    "```python\n",
    "annual_cases.rename(columns={'Case_ID': 'Case_Count'}, inplace=True)\n",
    "```\n",
    "\n",
    "The first argument in the `df.rename()` method is `columns`. And what do we set columns to? We set it to a Python dictionary where the \"key\" is the original column name and the \"value\" is the new column name: `{'Case_ID': 'Case_Count'}`. \n",
    "\n",
    "The second argument is `inplace=True`. That tells us to change the `annual_cases` \"in place\" or without having to reset the dataframe variable. A lot of the methods in pandas return a new dataframe instead of altering the original dataframe. An alternative to using `inplace` is the following code:\n",
    "\n",
    "```python\n",
    "annual_cases = annual_cases.rename(columns={'Case_ID': 'Count'})\n",
    "```\n",
    "\n",
    "Let's take a look at our nicely named summary table:"
   ]
  },
  {
   "cell_type": "code",
   "execution_count": null,
   "id": "45e6e5fd-de40-4b19-94b5-c2ce9eea9ad5",
   "metadata": {},
   "outputs": [],
   "source": [
    "annual_cases"
   ]
  },
  {
   "cell_type": "markdown",
   "id": "f7745fed-5798-4688-8378-7caa2707a261",
   "metadata": {},
   "source": [
    "Now, I kind of want to change the **Date_Opened** column to be a **Year** column. Pandas uses the last date of the year to summarize the whole year, but instead of `2011-12-31`, I want the value `2011` and so on. So let's create a new column in `annual_cases` called **Year**."
   ]
  },
  {
   "cell_type": "code",
   "execution_count": null,
   "id": "d295ce7f-be43-48ed-8283-e0b0cdb2de2c",
   "metadata": {},
   "outputs": [],
   "source": [
    "annual_cases['Year'] = annual_cases['Date_Opened'].dt.year"
   ]
  },
  {
   "cell_type": "code",
   "execution_count": null,
   "id": "0b627de7-cc4e-45c4-9fd6-1c04f91de54e",
   "metadata": {},
   "outputs": [],
   "source": [
    "annual_cases"
   ]
  },
  {
   "cell_type": "markdown",
   "id": "147fab8f-0a96-4668-82c2-6a64875f8893",
   "metadata": {},
   "source": [
    "At this point, I don't need the **Date_Opened** column anymore. So I can subset the dataframe with just the two columns I need. \n",
    "\n",
    "I also want **Year** to be the first column, not the last. The order I set the columns in my subset is how the new dataframe will be ordered."
   ]
  },
  {
   "cell_type": "code",
   "execution_count": null,
   "id": "4de95959-58de-417b-aa7b-a2963987b1e8",
   "metadata": {},
   "outputs": [],
   "source": [
    "annual_cases = annual_cases[['Year', 'Case_Count']].copy()"
   ]
  },
  {
   "cell_type": "code",
   "execution_count": null,
   "id": "fa2826f1-aa1c-4287-8630-79194f333565",
   "metadata": {},
   "outputs": [],
   "source": [
    "annual_cases"
   ]
  },
  {
   "cell_type": "markdown",
   "id": "376deee3-2be6-4fc8-aed6-e9946cec8f2c",
   "metadata": {},
   "source": [
    "## Let's visualize this summary table!\n",
    "\n",
    "Before we run the Altair code below, let's take a closer look:\n",
    "\n",
    "```python\n",
    "alt.Chart(annual_cases).mark_bar().encode(\n",
    "    x='Year:O',\n",
    "    y='Case_Count'\n",
    ")\n",
    "```\n",
    "The first part of the code `alt.Chart()` requires you to fill the first argument with a dataframe, in this case `annual_cases`.\n",
    "\n",
    "The next part of the code `mark_bar()` specifies a bar chart. (If you want a line chart, you'd use `mark_line()`.)\n",
    "\n",
    "After that, `.encode()` tells Altair which columns to use for the `x` and `y` axes."
   ]
  },
  {
   "cell_type": "code",
   "execution_count": null,
   "id": "616cc6a4-1ad0-4467-b9aa-93199a2724e3",
   "metadata": {},
   "outputs": [],
   "source": [
    "alt.Chart(annual_cases).mark_bar().encode(\n",
    "    x='Year',\n",
    "    y='Case_Count'\n",
    ")"
   ]
  },
  {
   "cell_type": "markdown",
   "id": "2d1d41a9-e5f6-4c2d-b9f6-4dda4230b0e4",
   "metadata": {},
   "source": [
    "That's pretty cool, but the Year shows up as an integer and not really a year. Let's make a very small alteration to the code.\n",
    "\n",
    "Before you run the code below, notice that after `Year` there's a colon and an `O`. The `O` is shorthand for \"ordinal,\" and tells Altair to treat `Year` as if it's a discrete quantity, not a continuous quantity. "
   ]
  },
  {
   "cell_type": "code",
   "execution_count": null,
   "id": "3f1b56ca-23d7-4291-8c64-2a3d523bd02f",
   "metadata": {},
   "outputs": [],
   "source": [
    "alt.Chart(annual_cases).mark_bar().encode(\n",
    "    x='Year:O',\n",
    "    y='Case_Count'\n",
    ")"
   ]
  },
  {
   "cell_type": "markdown",
   "id": "3ef5b991-c680-44d7-8f81-f4eb033f6f20",
   "metadata": {},
   "source": [
    "You can read about more [Altair encoding types](https://altair-viz.github.io/user_guide/encoding.html#encoding-data-types) in the documentation. It's helpful to get familiar with those encoding types in the event your chart doesn't look quite right."
   ]
  }
 ],
 "metadata": {
  "kernelspec": {
   "display_name": "Python 3 (ipykernel)",
   "language": "python",
   "name": "python3"
  },
  "language_info": {
   "codemirror_mode": {
    "name": "ipython",
    "version": 3
   },
   "file_extension": ".py",
   "mimetype": "text/x-python",
   "name": "python",
   "nbconvert_exporter": "python",
   "pygments_lexer": "ipython3",
   "version": "3.8.5"
  },
  "toc": {
   "base_numbering": 1,
   "nav_menu": {},
   "number_sections": true,
   "sideBar": true,
   "skip_h1_title": true,
   "title_cell": "Table of Contents",
   "title_sidebar": "Contents",
   "toc_cell": true,
   "toc_position": {
    "height": "calc(100% - 180px)",
    "left": "10px",
    "top": "150px",
    "width": "288px"
   },
   "toc_section_display": true,
   "toc_window_display": true
  }
 },
 "nbformat": 4,
 "nbformat_minor": 5
}
